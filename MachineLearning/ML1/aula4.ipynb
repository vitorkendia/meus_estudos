{
 "cells": [
  {
   "attachments": {},
   "cell_type": "markdown",
   "metadata": {},
   "source": [
    "## Resumo aula 4 de Machine Learning ##"
   ]
  },
  {
   "attachments": {},
   "cell_type": "markdown",
   "metadata": {},
   "source": [
    "no modelo de CLASSIFICAÇÃO KNN, \n",
    "k=1 temos alta variância (overfitting - pense nos outliers!).\n",
    "\n",
    "k=N temos alto viés (underfittinf - não aprendemos nada, só predizemos diretamente a classe majoritária na base de treino)."
   ]
  },
  {
   "cell_type": "code",
   "execution_count": 114,
   "metadata": {},
   "outputs": [],
   "source": [
    "import numpy as np\n",
    "import pandas as pd\n",
    "import matplotlib.pyplot as plt\n",
    "from sklearn.model_selection import train_test_split, cross_validate, KFold\n",
    "from sklearn.preprocessing import StandardScaler, MinMaxScaler, RobustScaler, LabelEncoder\n",
    "from sklearn.neighbors import KNeighborsClassifier, KNeighborsRegressor\n",
    "from sklearn.metrics import ConfusionMatrixDisplay, confusion_matrix, classification_report, make_scorer, precision_score, recall_score, accuracy_score, f1_score\n",
    "\n"
   ]
  },
  {
   "cell_type": "code",
   "execution_count": 115,
   "metadata": {},
   "outputs": [
    {
     "name": "stdout",
     "output_type": "stream",
     "text": [
      "<class 'pandas.core.frame.DataFrame'>\n",
      "RangeIndex: 569 entries, 0 to 568\n",
      "Data columns (total 33 columns):\n",
      " #   Column                   Non-Null Count  Dtype  \n",
      "---  ------                   --------------  -----  \n",
      " 0   id                       569 non-null    int64  \n",
      " 1   diagnosis                569 non-null    object \n",
      " 2   radius_mean              569 non-null    float64\n",
      " 3   texture_mean             569 non-null    float64\n",
      " 4   perimeter_mean           569 non-null    float64\n",
      " 5   area_mean                569 non-null    float64\n",
      " 6   smoothness_mean          569 non-null    float64\n",
      " 7   compactness_mean         569 non-null    float64\n",
      " 8   concavity_mean           569 non-null    float64\n",
      " 9   concave points_mean      569 non-null    float64\n",
      " 10  symmetry_mean            569 non-null    float64\n",
      " 11  fractal_dimension_mean   569 non-null    float64\n",
      " 12  radius_se                569 non-null    float64\n",
      " 13  texture_se               569 non-null    float64\n",
      " 14  perimeter_se             569 non-null    float64\n",
      " 15  area_se                  569 non-null    float64\n",
      " 16  smoothness_se            569 non-null    float64\n",
      " 17  compactness_se           569 non-null    float64\n",
      " 18  concavity_se             569 non-null    float64\n",
      " 19  concave points_se        569 non-null    float64\n",
      " 20  symmetry_se              569 non-null    float64\n",
      " 21  fractal_dimension_se     569 non-null    float64\n",
      " 22  radius_worst             569 non-null    float64\n",
      " 23  texture_worst            569 non-null    float64\n",
      " 24  perimeter_worst          569 non-null    float64\n",
      " 25  area_worst               569 non-null    float64\n",
      " 26  smoothness_worst         569 non-null    float64\n",
      " 27  compactness_worst        569 non-null    float64\n",
      " 28  concavity_worst          569 non-null    float64\n",
      " 29  concave points_worst     569 non-null    float64\n",
      " 30  symmetry_worst           569 non-null    float64\n",
      " 31  fractal_dimension_worst  569 non-null    float64\n",
      " 32  Unnamed: 32              0 non-null      float64\n",
      "dtypes: float64(31), int64(1), object(1)\n",
      "memory usage: 146.8+ KB\n"
     ]
    }
   ],
   "source": [
    "bcancer_ds=pd.read_csv('data.csv')\n",
    "bcancer_ds.info()\n",
    "bcancer_ds = bcancer_ds.drop(\"Unnamed: 32\", axis=1)\n",
    "bcancer_raw = bcancer_ds.copy()\n"
   ]
  },
  {
   "cell_type": "code",
   "execution_count": 116,
   "metadata": {},
   "outputs": [],
   "source": [
    "y = bcancer_ds['diagnosis']\n",
    "X = bcancer_ds.drop(columns='diagnosis', axis=1)\n",
    "x_train, x_test, y_train, y_test = train_test_split(X,y)\n"
   ]
  },
  {
   "cell_type": "code",
   "execution_count": 117,
   "metadata": {},
   "outputs": [],
   "source": [
    "scaler=StandardScaler()\n",
    "bcancer_scaler = scaler.fit(x_train)\n",
    "x_train_ss = bcancer_scaler.transform(x_train)\n",
    "x_test_ss = bcancer_scaler.transform(x_test)"
   ]
  },
  {
   "cell_type": "code",
   "execution_count": 118,
   "metadata": {},
   "outputs": [],
   "source": [
    "knn = KNeighborsClassifier()\n",
    "kf5 = KFold(n_splits=5, shuffle=True)\n",
    "# knn.fit(x_train_ss,y_train)\n",
    "\n",
    "# y_predict = knn.predict(x_test_ss)\n",
    "# scoring =('accuracy','precision','f1','recall')\n",
    "# cm = confusion_matrix(y_test, y_predict)\n",
    "# dl=[\"B\",\"M\"]\n",
    "# disp = ConfusionMatrixDisplay(confusion_matrix=cm, display_labels=dl)\n",
    "# disp.plot()\n",
    "scoring = {\n",
    "    'precision': make_scorer(precision_score, pos_label='M'),\n",
    "    'recall': make_scorer(recall_score, pos_label='M'),\n",
    "    'f1': make_scorer(f1_score, pos_label='M'),\n",
    "    'accuracy': make_scorer(accuracy_score)\n",
    "}"
   ]
  },
  {
   "cell_type": "code",
   "execution_count": 119,
   "metadata": {},
   "outputs": [
    {
     "data": {
      "text/html": [
       "<div>\n",
       "<style scoped>\n",
       "    .dataframe tbody tr th:only-of-type {\n",
       "        vertical-align: middle;\n",
       "    }\n",
       "\n",
       "    .dataframe tbody tr th {\n",
       "        vertical-align: top;\n",
       "    }\n",
       "\n",
       "    .dataframe thead th {\n",
       "        text-align: right;\n",
       "    }\n",
       "</style>\n",
       "<table border=\"1\" class=\"dataframe\">\n",
       "  <thead>\n",
       "    <tr style=\"text-align: right;\">\n",
       "      <th></th>\n",
       "      <th>fit_time</th>\n",
       "      <th>score_time</th>\n",
       "      <th>test_precision</th>\n",
       "      <th>train_precision</th>\n",
       "      <th>test_recall</th>\n",
       "      <th>train_recall</th>\n",
       "      <th>test_f1</th>\n",
       "      <th>train_f1</th>\n",
       "      <th>test_accuracy</th>\n",
       "      <th>train_accuracy</th>\n",
       "    </tr>\n",
       "  </thead>\n",
       "  <tbody>\n",
       "    <tr>\n",
       "      <th>0</th>\n",
       "      <td>0.003002</td>\n",
       "      <td>0.010999</td>\n",
       "      <td>0.960000</td>\n",
       "      <td>0.991803</td>\n",
       "      <td>0.960000</td>\n",
       "      <td>0.909774</td>\n",
       "      <td>0.960000</td>\n",
       "      <td>0.949020</td>\n",
       "      <td>0.976744</td>\n",
       "      <td>0.961765</td>\n",
       "    </tr>\n",
       "    <tr>\n",
       "      <th>1</th>\n",
       "      <td>0.002001</td>\n",
       "      <td>0.009001</td>\n",
       "      <td>1.000000</td>\n",
       "      <td>0.983607</td>\n",
       "      <td>0.896552</td>\n",
       "      <td>0.930233</td>\n",
       "      <td>0.945455</td>\n",
       "      <td>0.956175</td>\n",
       "      <td>0.964706</td>\n",
       "      <td>0.967742</td>\n",
       "    </tr>\n",
       "    <tr>\n",
       "      <th>2</th>\n",
       "      <td>0.001000</td>\n",
       "      <td>0.009002</td>\n",
       "      <td>0.939394</td>\n",
       "      <td>0.991304</td>\n",
       "      <td>0.968750</td>\n",
       "      <td>0.904762</td>\n",
       "      <td>0.953846</td>\n",
       "      <td>0.946058</td>\n",
       "      <td>0.964706</td>\n",
       "      <td>0.961877</td>\n",
       "    </tr>\n",
       "    <tr>\n",
       "      <th>3</th>\n",
       "      <td>0.000999</td>\n",
       "      <td>0.009998</td>\n",
       "      <td>1.000000</td>\n",
       "      <td>0.990909</td>\n",
       "      <td>0.871795</td>\n",
       "      <td>0.915966</td>\n",
       "      <td>0.931507</td>\n",
       "      <td>0.951965</td>\n",
       "      <td>0.941176</td>\n",
       "      <td>0.967742</td>\n",
       "    </tr>\n",
       "    <tr>\n",
       "      <th>4</th>\n",
       "      <td>0.002000</td>\n",
       "      <td>0.009999</td>\n",
       "      <td>1.000000</td>\n",
       "      <td>0.991736</td>\n",
       "      <td>0.757576</td>\n",
       "      <td>0.960000</td>\n",
       "      <td>0.862069</td>\n",
       "      <td>0.975610</td>\n",
       "      <td>0.905882</td>\n",
       "      <td>0.982405</td>\n",
       "    </tr>\n",
       "  </tbody>\n",
       "</table>\n",
       "</div>"
      ],
      "text/plain": [
       "   fit_time  score_time  test_precision  train_precision  test_recall  \\\n",
       "0  0.003002    0.010999        0.960000         0.991803     0.960000   \n",
       "1  0.002001    0.009001        1.000000         0.983607     0.896552   \n",
       "2  0.001000    0.009002        0.939394         0.991304     0.968750   \n",
       "3  0.000999    0.009998        1.000000         0.990909     0.871795   \n",
       "4  0.002000    0.009999        1.000000         0.991736     0.757576   \n",
       "\n",
       "   train_recall   test_f1  train_f1  test_accuracy  train_accuracy  \n",
       "0      0.909774  0.960000  0.949020       0.976744        0.961765  \n",
       "1      0.930233  0.945455  0.956175       0.964706        0.967742  \n",
       "2      0.904762  0.953846  0.946058       0.964706        0.961877  \n",
       "3      0.915966  0.931507  0.951965       0.941176        0.967742  \n",
       "4      0.960000  0.862069  0.975610       0.905882        0.982405  "
      ]
     },
     "execution_count": 119,
     "metadata": {},
     "output_type": "execute_result"
    }
   ],
   "source": [
    "cv = cross_validate(estimator=knn, X=x_train_ss, y=y_train,cv=kf5 ,scoring=scoring,return_train_score=True)\n",
    "\n",
    "pd.DataFrame(cv)"
   ]
  },
  {
   "cell_type": "code",
   "execution_count": null,
   "metadata": {},
   "outputs": [],
   "source": []
  }
 ],
 "metadata": {
  "kernelspec": {
   "display_name": "base",
   "language": "python",
   "name": "python3"
  },
  "language_info": {
   "codemirror_mode": {
    "name": "ipython",
    "version": 3
   },
   "file_extension": ".py",
   "mimetype": "text/x-python",
   "name": "python",
   "nbconvert_exporter": "python",
   "pygments_lexer": "ipython3",
   "version": "3.9.7"
  },
  "orig_nbformat": 4
 },
 "nbformat": 4,
 "nbformat_minor": 2
}
