{
 "cells": [
  {
   "attachments": {},
   "cell_type": "markdown",
   "metadata": {},
   "source": [
    "## Resumo aula 3 de Machine Learning ##"
   ]
  },
  {
   "attachments": {},
   "cell_type": "markdown",
   "metadata": {},
   "source": [
    "No extremo desta abordagem, podemos tomar o número  k  de folds igual ao número de observações na base ( n ). Neste caso, utiliza-se uma única observação para teste, enquanto o resto do dataset é utilizado para treino. Essa abordagem é conhecida como leave one out (LOO):"
   ]
  },
  {
   "cell_type": "code",
   "execution_count": 2,
   "metadata": {},
   "outputs": [],
   "source": [
    "import numpy as np\n",
    "import pandas as pd\n",
    "import matplotlib.pyplot as plt\n",
    "import seaborn as sns\n",
    "from sklearn.model_selection import KFold, StratifiedKFold, cross_validate, train_test_split\n",
    "from sklearn.linear_model import LinearRegression, LogisticRegressionCV, ElasticNet, ElasticNetCV\n",
    "from sklearn.preprocessing import StandardScaler, MinMaxScaler\n"
   ]
  },
  {
   "attachments": {},
   "cell_type": "markdown",
   "metadata": {},
   "source": [
    "<div>\n",
    "<h1>Crossvalidation</h1>\n",
    "Além de permitir uma avaliação mais robusta de um modelo(verificando a capacidade de generalização),</br>\n",
    "o CV pode também ser utilizado para um propósito muito importante:</br>\n",
    "a escolha de valores adequados de hiperparâmetros de um modelo - processo conhecido como hyperparameter tuning.</br>\n",
    "como/por que utilizar CV para o ajuste de hiperparâmetros?\n",
    "\n",
    "Ao testarmos diferentes valores/combinações de hiperparâmetros em diferentes folds, temos uma estimativa mais \n",
    "realista sobre o efeito destas escolhas:</br>\n",
    "Se o resultado for bom em todos os folds (ou bom em média), temos um indicativo mais robusto de que de fato \n",
    "aquela é uma boa escolha.</br>\n",
    "Em particular, fica muito mais difícil de cometermos overfitting através da escolha de hiperparâmetros que ajustem</br> \n",
    "muito bem uma única base de treino.</br>\n",
    "No sklearn, temos o procedimento de CV incorporado a algumas classes de hipóteses:\n",
    "\n",
    "Lasso CV</br>\n",
    "Ridge CV</br>\n",
    "ElasticNetCV</br>\n",
    "LogisticRegressionCV</br>\n",
    "-Em todos os casos, é possível especificar uma lista de hiperparâmetros a serem percorridos, e o modelo com melhor </br> \n",
    "hiperparâmetro (ou combinação de hiperparâmetros) é escolhido!\n",
    "</div>"
   ]
  },
  {
   "attachments": {},
   "cell_type": "markdown",
   "metadata": {},
   "source": [
    "## Exercício\n",
    "1 - Teste diferentes regressores CV com a base house_prices\n",
    "Aumente a complexidade da hipótese permitindo uma regressão polinomial, e deixe o CV decidir uma boa regularização!"
   ]
  },
  {
   "cell_type": "code",
   "execution_count": 202,
   "metadata": {},
   "outputs": [
    {
     "name": "stdout",
     "output_type": "stream",
     "text": [
      "<class 'pandas.core.frame.DataFrame'>\n",
      "RangeIndex: 5000 entries, 0 to 4999\n",
      "Data columns (total 6 columns):\n",
      " #   Column                        Non-Null Count  Dtype  \n",
      "---  ------                        --------------  -----  \n",
      " 0   Avg. Area Income              5000 non-null   float64\n",
      " 1   Avg. Area House Age           5000 non-null   float64\n",
      " 2   Avg. Area Number of Rooms     5000 non-null   float64\n",
      " 3   Avg. Area Number of Bedrooms  5000 non-null   float64\n",
      " 4   Area Population               5000 non-null   float64\n",
      " 5   Price                         5000 non-null   float64\n",
      "dtypes: float64(6)\n",
      "memory usage: 234.5 KB\n"
     ]
    }
   ],
   "source": [
    "house_ds=pd.read_csv('usa_housing.csv')\n",
    "house_ds.drop(columns='Address' ,inplace=True)\n",
    "house_ds.info()\n",
    "house_raw = house_ds"
   ]
  },
  {
   "cell_type": "code",
   "execution_count": 203,
   "metadata": {},
   "outputs": [
    {
     "data": {
      "text/html": [
       "<div>\n",
       "<style scoped>\n",
       "    .dataframe tbody tr th:only-of-type {\n",
       "        vertical-align: middle;\n",
       "    }\n",
       "\n",
       "    .dataframe tbody tr th {\n",
       "        vertical-align: top;\n",
       "    }\n",
       "\n",
       "    .dataframe thead th {\n",
       "        text-align: right;\n",
       "    }\n",
       "</style>\n",
       "<table border=\"1\" class=\"dataframe\">\n",
       "  <thead>\n",
       "    <tr style=\"text-align: right;\">\n",
       "      <th></th>\n",
       "      <th>Avg. Area Income</th>\n",
       "      <th>Avg. Area House Age</th>\n",
       "      <th>Avg. Area Number of Rooms</th>\n",
       "      <th>Avg. Area Number of Bedrooms</th>\n",
       "      <th>Area Population</th>\n",
       "      <th>Price</th>\n",
       "    </tr>\n",
       "  </thead>\n",
       "  <tbody>\n",
       "    <tr>\n",
       "      <th>count</th>\n",
       "      <td>5000.000000</td>\n",
       "      <td>5000.000000</td>\n",
       "      <td>5000.000000</td>\n",
       "      <td>5000.000000</td>\n",
       "      <td>5000.000000</td>\n",
       "      <td>5.000000e+03</td>\n",
       "    </tr>\n",
       "    <tr>\n",
       "      <th>mean</th>\n",
       "      <td>68583.108984</td>\n",
       "      <td>5.977222</td>\n",
       "      <td>6.987792</td>\n",
       "      <td>3.981330</td>\n",
       "      <td>36163.516039</td>\n",
       "      <td>1.232073e+06</td>\n",
       "    </tr>\n",
       "    <tr>\n",
       "      <th>std</th>\n",
       "      <td>10657.991214</td>\n",
       "      <td>0.991456</td>\n",
       "      <td>1.005833</td>\n",
       "      <td>1.234137</td>\n",
       "      <td>9925.650114</td>\n",
       "      <td>3.531176e+05</td>\n",
       "    </tr>\n",
       "    <tr>\n",
       "      <th>min</th>\n",
       "      <td>17796.631190</td>\n",
       "      <td>2.644304</td>\n",
       "      <td>3.236194</td>\n",
       "      <td>2.000000</td>\n",
       "      <td>172.610686</td>\n",
       "      <td>1.593866e+04</td>\n",
       "    </tr>\n",
       "    <tr>\n",
       "      <th>25%</th>\n",
       "      <td>61480.562388</td>\n",
       "      <td>5.322283</td>\n",
       "      <td>6.299250</td>\n",
       "      <td>3.140000</td>\n",
       "      <td>29403.928702</td>\n",
       "      <td>9.975771e+05</td>\n",
       "    </tr>\n",
       "    <tr>\n",
       "      <th>50%</th>\n",
       "      <td>68804.286404</td>\n",
       "      <td>5.970429</td>\n",
       "      <td>7.002902</td>\n",
       "      <td>4.050000</td>\n",
       "      <td>36199.406689</td>\n",
       "      <td>1.232669e+06</td>\n",
       "    </tr>\n",
       "    <tr>\n",
       "      <th>75%</th>\n",
       "      <td>75783.338666</td>\n",
       "      <td>6.650808</td>\n",
       "      <td>7.665871</td>\n",
       "      <td>4.490000</td>\n",
       "      <td>42861.290769</td>\n",
       "      <td>1.471210e+06</td>\n",
       "    </tr>\n",
       "    <tr>\n",
       "      <th>max</th>\n",
       "      <td>107701.748378</td>\n",
       "      <td>9.519088</td>\n",
       "      <td>10.759588</td>\n",
       "      <td>6.500000</td>\n",
       "      <td>69621.713378</td>\n",
       "      <td>2.469066e+06</td>\n",
       "    </tr>\n",
       "  </tbody>\n",
       "</table>\n",
       "</div>"
      ],
      "text/plain": [
       "       Avg. Area Income  Avg. Area House Age  Avg. Area Number of Rooms  \\\n",
       "count       5000.000000          5000.000000                5000.000000   \n",
       "mean       68583.108984             5.977222                   6.987792   \n",
       "std        10657.991214             0.991456                   1.005833   \n",
       "min        17796.631190             2.644304                   3.236194   \n",
       "25%        61480.562388             5.322283                   6.299250   \n",
       "50%        68804.286404             5.970429                   7.002902   \n",
       "75%        75783.338666             6.650808                   7.665871   \n",
       "max       107701.748378             9.519088                  10.759588   \n",
       "\n",
       "       Avg. Area Number of Bedrooms  Area Population         Price  \n",
       "count                   5000.000000      5000.000000  5.000000e+03  \n",
       "mean                       3.981330     36163.516039  1.232073e+06  \n",
       "std                        1.234137      9925.650114  3.531176e+05  \n",
       "min                        2.000000       172.610686  1.593866e+04  \n",
       "25%                        3.140000     29403.928702  9.975771e+05  \n",
       "50%                        4.050000     36199.406689  1.232669e+06  \n",
       "75%                        4.490000     42861.290769  1.471210e+06  \n",
       "max                        6.500000     69621.713378  2.469066e+06  "
      ]
     },
     "execution_count": 203,
     "metadata": {},
     "output_type": "execute_result"
    }
   ],
   "source": [
    "house_ds.describe()"
   ]
  },
  {
   "cell_type": "code",
   "execution_count": 204,
   "metadata": {},
   "outputs": [
    {
     "data": {
      "text/plain": [
       "{'fit_time': array([0.00699925, 0.00399995, 0.00200081, 0.00399947, 0.00300074]),\n",
       " 'score_time': array([0.00400043, 0.00200152, 0.00199819, 0.00200248, 0.00199938]),\n",
       " 'test_neg_mean_absolute_error': array([-81814.58316019, -82703.801092  , -82758.60134894, -80758.93784433,\n",
       "        -79213.86256219]),\n",
       " 'train_neg_mean_absolute_error': array([-81280.64865298, -81027.21037466, -81024.64551709, -81511.40096478,\n",
       "        -81891.70309083]),\n",
       " 'test_neg_root_mean_squared_error': array([-102191.60920932, -102409.33373972, -103545.97223701,\n",
       "         -99911.83715164,  -97790.98591128]),\n",
       " 'train_neg_root_mean_squared_error': array([-100841.39918947, -100770.89656981, -100483.27238714,\n",
       "        -101386.37296175, -101920.44617504]),\n",
       " 'test_r2': array([0.91174232, 0.91459686, 0.91981131, 0.92009568, 0.92246593]),\n",
       " 'train_r2': array([0.91945166, 0.9188227 , 0.9174986 , 0.9175012 , 0.91689628])}"
      ]
     },
     "execution_count": 204,
     "metadata": {},
     "output_type": "execute_result"
    }
   ],
   "source": [
    "X = house_ds.drop(columns='Price')\n",
    "y = house_ds['Price']\n",
    "scoring = (\"neg_mean_absolute_error\", \"neg_root_mean_squared_error\", \"r2\")\n",
    "en = ElasticNet(alpha=0.5, l1_ratio=0.5) \n",
    "estimator = LinearRegression()\n",
    "kf5 = KFold(n_splits=5, shuffle=True)\n",
    "cv = cross_validate(estimator=estimator, X=X, y=y, cv=kf5, scoring=scoring,\n",
    "                           return_train_score=True)\n",
    "\n",
    "cv"
   ]
  },
  {
   "cell_type": "code",
   "execution_count": 205,
   "metadata": {},
   "outputs": [
    {
     "data": {
      "text/html": [
       "<div>\n",
       "<style scoped>\n",
       "    .dataframe tbody tr th:only-of-type {\n",
       "        vertical-align: middle;\n",
       "    }\n",
       "\n",
       "    .dataframe tbody tr th {\n",
       "        vertical-align: top;\n",
       "    }\n",
       "\n",
       "    .dataframe thead th {\n",
       "        text-align: right;\n",
       "    }\n",
       "</style>\n",
       "<table border=\"1\" class=\"dataframe\">\n",
       "  <thead>\n",
       "    <tr style=\"text-align: right;\">\n",
       "      <th></th>\n",
       "      <th>train_neg_mean_absolute_error</th>\n",
       "      <th>test_neg_mean_absolute_error</th>\n",
       "    </tr>\n",
       "  </thead>\n",
       "  <tbody>\n",
       "    <tr>\n",
       "      <th>count</th>\n",
       "      <td>5.000000</td>\n",
       "      <td>5.000000</td>\n",
       "    </tr>\n",
       "    <tr>\n",
       "      <th>mean</th>\n",
       "      <td>-81347.121720</td>\n",
       "      <td>-81449.957202</td>\n",
       "    </tr>\n",
       "    <tr>\n",
       "      <th>std</th>\n",
       "      <td>365.482345</td>\n",
       "      <td>1491.245544</td>\n",
       "    </tr>\n",
       "    <tr>\n",
       "      <th>min</th>\n",
       "      <td>-81891.703091</td>\n",
       "      <td>-82758.601349</td>\n",
       "    </tr>\n",
       "    <tr>\n",
       "      <th>25%</th>\n",
       "      <td>-81511.400965</td>\n",
       "      <td>-82703.801092</td>\n",
       "    </tr>\n",
       "    <tr>\n",
       "      <th>50%</th>\n",
       "      <td>-81280.648653</td>\n",
       "      <td>-81814.583160</td>\n",
       "    </tr>\n",
       "    <tr>\n",
       "      <th>75%</th>\n",
       "      <td>-81027.210375</td>\n",
       "      <td>-80758.937844</td>\n",
       "    </tr>\n",
       "    <tr>\n",
       "      <th>max</th>\n",
       "      <td>-81024.645517</td>\n",
       "      <td>-79213.862562</td>\n",
       "    </tr>\n",
       "  </tbody>\n",
       "</table>\n",
       "</div>"
      ],
      "text/plain": [
       "       train_neg_mean_absolute_error  test_neg_mean_absolute_error\n",
       "count                       5.000000                      5.000000\n",
       "mean                   -81347.121720                 -81449.957202\n",
       "std                       365.482345                   1491.245544\n",
       "min                    -81891.703091                 -82758.601349\n",
       "25%                    -81511.400965                 -82703.801092\n",
       "50%                    -81280.648653                 -81814.583160\n",
       "75%                    -81027.210375                 -80758.937844\n",
       "max                    -81024.645517                 -79213.862562"
      ]
     },
     "metadata": {},
     "output_type": "display_data"
    },
    {
     "name": "stdout",
     "output_type": "stream",
     "text": [
      "\n",
      "Distribuição da métrica neg_mean_absolute_error de treino:\n"
     ]
    },
    {
     "data": {
      "image/png": "[encoded data removed]",
      "text/plain": [
       "<Figure size 432x288 with 1 Axes>"
      ]
     },
     "metadata": {
      "needs_background": "light"
     },
     "output_type": "display_data"
    },
    {
     "name": "stdout",
     "output_type": "stream",
     "text": [
      "\n",
      "Distribuição da métrica neg_mean_absolute_error de teste:\n"
     ]
    },
    {
     "data": {
      "image/png": "[encoded data removed]",
      "text/plain": [
       "<Figure size 432x288 with 1 Axes>"
      ]
     },
     "metadata": {
      "needs_background": "light"
     },
     "output_type": "display_data"
    },
    {
     "name": "stdout",
     "output_type": "stream",
     "text": [
      "----------------------------------------------------------------------------------------------------\n"
     ]
    },
    {
     "data": {
      "text/html": [
       "<div>\n",
       "<style scoped>\n",
       "    .dataframe tbody tr th:only-of-type {\n",
       "        vertical-align: middle;\n",
       "    }\n",
       "\n",
       "    .dataframe tbody tr th {\n",
       "        vertical-align: top;\n",
       "    }\n",
       "\n",
       "    .dataframe thead th {\n",
       "        text-align: right;\n",
       "    }\n",
       "</style>\n",
       "<table border=\"1\" class=\"dataframe\">\n",
       "  <thead>\n",
       "    <tr style=\"text-align: right;\">\n",
       "      <th></th>\n",
       "      <th>train_neg_root_mean_squared_error</th>\n",
       "      <th>test_neg_root_mean_squared_error</th>\n",
       "    </tr>\n",
       "  </thead>\n",
       "  <tbody>\n",
       "    <tr>\n",
       "      <th>count</th>\n",
       "      <td>5.000000</td>\n",
       "      <td>5.000000</td>\n",
       "    </tr>\n",
       "    <tr>\n",
       "      <th>mean</th>\n",
       "      <td>-101080.477457</td>\n",
       "      <td>-101169.947650</td>\n",
       "    </tr>\n",
       "    <tr>\n",
       "      <th>std</th>\n",
       "      <td>572.007899</td>\n",
       "      <td>2303.561781</td>\n",
       "    </tr>\n",
       "    <tr>\n",
       "      <th>min</th>\n",
       "      <td>-101920.446175</td>\n",
       "      <td>-103545.972237</td>\n",
       "    </tr>\n",
       "    <tr>\n",
       "      <th>25%</th>\n",
       "      <td>-101386.372962</td>\n",
       "      <td>-102409.333740</td>\n",
       "    </tr>\n",
       "    <tr>\n",
       "      <th>50%</th>\n",
       "      <td>-100841.399189</td>\n",
       "      <td>-102191.609209</td>\n",
       "    </tr>\n",
       "    <tr>\n",
       "      <th>75%</th>\n",
       "      <td>-100770.896570</td>\n",
       "      <td>-99911.837152</td>\n",
       "    </tr>\n",
       "    <tr>\n",
       "      <th>max</th>\n",
       "      <td>-100483.272387</td>\n",
       "      <td>-97790.985911</td>\n",
       "    </tr>\n",
       "  </tbody>\n",
       "</table>\n",
       "</div>"
      ],
      "text/plain": [
       "       train_neg_root_mean_squared_error  test_neg_root_mean_squared_error\n",
       "count                           5.000000                          5.000000\n",
       "mean                      -101080.477457                    -101169.947650\n",
       "std                           572.007899                       2303.561781\n",
       "min                       -101920.446175                    -103545.972237\n",
       "25%                       -101386.372962                    -102409.333740\n",
       "50%                       -100841.399189                    -102191.609209\n",
       "75%                       -100770.896570                     -99911.837152\n",
       "max                       -100483.272387                     -97790.985911"
      ]
     },
     "metadata": {},
     "output_type": "display_data"
    },
    {
     "name": "stdout",
     "output_type": "stream",
     "text": [
      "\n",
      "Distribuição da métrica neg_root_mean_squared_error de treino:\n"
     ]
    },
    {
     "data": {
      "image/png": "[encoded data removed]",
      "text/plain": [
       "<Figure size 432x288 with 1 Axes>"
      ]
     },
     "metadata": {
      "needs_background": "light"
     },
     "output_type": "display_data"
    },
    {
     "name": "stdout",
     "output_type": "stream",
     "text": [
      "\n",
      "Distribuição da métrica neg_root_mean_squared_error de teste:\n"
     ]
    },
    {
     "data": {
      "image/png": "[encoded data removed]",
      "text/plain": [
       "<Figure size 432x288 with 1 Axes>"
      ]
     },
     "metadata": {
      "needs_background": "light"
     },
     "output_type": "display_data"
    },
    {
     "name": "stdout",
     "output_type": "stream",
     "text": [
      "----------------------------------------------------------------------------------------------------\n"
     ]
    },
    {
     "data": {
      "text/html": [
       "<div>\n",
       "<style scoped>\n",
       "    .dataframe tbody tr th:only-of-type {\n",
       "        vertical-align: middle;\n",
       "    }\n",
       "\n",
       "    .dataframe tbody tr th {\n",
       "        vertical-align: top;\n",
       "    }\n",
       "\n",
       "    .dataframe thead th {\n",
       "        text-align: right;\n",
       "    }\n",
       "</style>\n",
       "<table border=\"1\" class=\"dataframe\">\n",
       "  <thead>\n",
       "    <tr style=\"text-align: right;\">\n",
       "      <th></th>\n",
       "      <th>train_r2</th>\n",
       "      <th>test_r2</th>\n",
       "    </tr>\n",
       "  </thead>\n",
       "  <tbody>\n",
       "    <tr>\n",
       "      <th>count</th>\n",
       "      <td>5.000000</td>\n",
       "      <td>5.000000</td>\n",
       "    </tr>\n",
       "    <tr>\n",
       "      <th>mean</th>\n",
       "      <td>0.918034</td>\n",
       "      <td>0.917742</td>\n",
       "    </tr>\n",
       "    <tr>\n",
       "      <th>std</th>\n",
       "      <td>0.001060</td>\n",
       "      <td>0.004417</td>\n",
       "    </tr>\n",
       "    <tr>\n",
       "      <th>min</th>\n",
       "      <td>0.916896</td>\n",
       "      <td>0.911742</td>\n",
       "    </tr>\n",
       "    <tr>\n",
       "      <th>25%</th>\n",
       "      <td>0.917499</td>\n",
       "      <td>0.914597</td>\n",
       "    </tr>\n",
       "    <tr>\n",
       "      <th>50%</th>\n",
       "      <td>0.917501</td>\n",
       "      <td>0.919811</td>\n",
       "    </tr>\n",
       "    <tr>\n",
       "      <th>75%</th>\n",
       "      <td>0.918823</td>\n",
       "      <td>0.920096</td>\n",
       "    </tr>\n",
       "    <tr>\n",
       "      <th>max</th>\n",
       "      <td>0.919452</td>\n",
       "      <td>0.922466</td>\n",
       "    </tr>\n",
       "  </tbody>\n",
       "</table>\n",
       "</div>"
      ],
      "text/plain": [
       "       train_r2   test_r2\n",
       "count  5.000000  5.000000\n",
       "mean   0.918034  0.917742\n",
       "std    0.001060  0.004417\n",
       "min    0.916896  0.911742\n",
       "25%    0.917499  0.914597\n",
       "50%    0.917501  0.919811\n",
       "75%    0.918823  0.920096\n",
       "max    0.919452  0.922466"
      ]
     },
     "metadata": {},
     "output_type": "display_data"
    },
    {
     "name": "stdout",
     "output_type": "stream",
     "text": [
      "\n",
      "Distribuição da métrica r2 de treino:\n"
     ]
    },
    {
     "data": {
      "image/png": "[encoded data removed]",
      "text/plain": [
       "<Figure size 432x288 with 1 Axes>"
      ]
     },
     "metadata": {
      "needs_background": "light"
     },
     "output_type": "display_data"
    },
    {
     "name": "stdout",
     "output_type": "stream",
     "text": [
      "\n",
      "Distribuição da métrica r2 de teste:\n"
     ]
    },
    {
     "data": {
      "image/png": "[encoded data removed]",
      "text/plain": [
       "<Figure size 432x288 with 1 Axes>"
      ]
     },
     "metadata": {
      "needs_background": "light"
     },
     "output_type": "display_data"
    },
    {
     "name": "stdout",
     "output_type": "stream",
     "text": [
      "----------------------------------------------------------------------------------------------------\n"
     ]
    }
   ],
   "source": [
    "result_cv = pd.DataFrame(cv)\n",
    "colunas_metricas = result_cv.columns.tolist()[2:]\n",
    "colunas_metricas = result_cv.columns.tolist()[2:]\n",
    "\n",
    "for i in range(0, len(colunas_metricas), 2):\n",
    "    display(result_cv[[colunas_metricas[i+1], colunas_metricas[i]]].describe())  \n",
    "    print(f'\\nDistribuição da métrica {colunas_metricas[i+1].replace(\"train_\", \"\")} de treino:')\n",
    "    sns.histplot(data=result_cv, x=colunas_metricas[i+1], kde=True)\n",
    "    plt.show()\n",
    "    \n",
    "    print(f'\\nDistribuição da métrica {colunas_metricas[i].replace(\"test_\", \"\")} de teste:')\n",
    "    sns.histplot(data=result_cv, x=colunas_metricas[i], kde=True)\n",
    "    plt.show()\n",
    "\n",
    "    print(\"-\"*100)\n",
    "\n"
   ]
  },
  {
   "cell_type": "code",
   "execution_count": 206,
   "metadata": {},
   "outputs": [],
   "source": [
    "X = house_raw.drop(columns='Price')\n",
    "y = house_raw['Price']\n",
    "estimator = LogisticRegressionCV()\n",
    "reg = StandardScaler()\n",
    "reg.fit(X,y)\n",
    "kf5 = KFold(n_splits=5, shuffle=True)\n",
    "en = ElasticNetCV(alphas=np.linspace(0.5, 1, 10), l1_ratio=np.linspace(0.5, 1, 10), cv=kf5)\n",
    "\n",
    "# en.fit(X, y)\n",
    "# print(en.alphas_)\n",
    "# print(en.l1_ratio_)\n"
   ]
  },
  {
   "cell_type": "code",
   "execution_count": 207,
   "metadata": {},
   "outputs": [
    {
     "name": "stdout",
     "output_type": "stream",
     "text": [
      "[1.         0.94444444 0.88888889 0.83333333 0.77777778 0.72222222\n",
      " 0.66666667 0.61111111 0.55555556 0.5       ]\n",
      "1.0\n"
     ]
    }
   ],
   "source": [
    "en.fit(X, y)\n",
    "print(en.alphas_)\n",
    "print(en.l1_ratio_)"
   ]
  }
 ],
 "metadata": {
  "kernelspec": {
   "display_name": "base",
   "language": "python",
   "name": "python3"
  },
  "language_info": {
   "codemirror_mode": {
    "name": "ipython",
    "version": 3
   },
   "file_extension": ".py",
   "mimetype": "text/x-python",
   "name": "python",
   "nbconvert_exporter": "python",
   "pygments_lexer": "ipython3",
   "version": "3.9.7"
  },
  "orig_nbformat": 4
 },
 "nbformat": 4,
 "nbformat_minor": 2
}
