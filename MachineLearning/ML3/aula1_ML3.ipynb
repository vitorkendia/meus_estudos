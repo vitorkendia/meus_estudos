{
 "cells": [
  {
   "attachments": {},
   "cell_type": "markdown",
   "metadata": {},
   "source": [
    "## Resumo Aula 1 ML3 ##\n"
   ]
  },
  {
   "attachments": {},
   "cell_type": "markdown",
   "metadata": {},
   "source": [
    "## **1. Análise de Componentes Principais - PCA**\n",
    "\n",
    "O termo PCA vem do inglês *Principal Component Analysis* e denomina uma técnica **não-supervisionada** que realiza uma transformação das variáveis originais num novo espaço de *features*, de modo que as novas componentes cartesianas (as *componentes principais*) sejam **ortogonais entre si** e representem a direção da **máxima variância** dos dados originais. Assim sendo:\n",
    "\n",
    "> A primeira componente principal é um eixo cartesiano que maximiza a variância dos dados projetados em sua direção<br>A segunda componente principal é um outro eixo cartesiano, ortogonal ao primeiro, que também maximia a variância nesta direção.\n",
    "\n",
    "<img src=https://austingwalters.com/wp-content/uploads/2014/11/gaussDist-labeled.png width=400>"
   ]
  },
  {
   "attachments": {},
   "cell_type": "markdown",
   "metadata": {},
   "source": [
    "Fatos importantes sobre os resultados da análise de componentes principais:\n",
    "\n",
    "- Se o espaço original tem $n$ atributos, então será possível construir $n$ componentes principais\n",
    "- Cada componente principal é uma **combinação linear dos atributos originais**. Ao contrário dos algoritmos de seleção de atributos que eliminam definitivamente as colunas do conjunto de dados, a análise de componentes principais (e outras de redução de dimensionalidade) promovem a combinação desses atributos em novos espaços\n",
    "- As componentes principais são ortogonais entre si, \n",
    "- As componentes principais são linearmente independentes entre si, sendo que a PCA também pode ser utilizada para eliminar multicolinearidade antes da modelagem.\n",
    "\n",
    "Com a aplicação da PCA, é espera-se que, no **espaço transformado das componentes principais**, a variância completa ou aproximadamente completa dos dados esteja contida nas $L$ primeiras componentes principais ($L < n$).\n",
    "\n",
    "Em resumo, as principais aplicações da PCA podem ser elencadas:\n",
    "\n",
    "- evitar a Maldição da Dimensionalidade\n",
    "- Acelerar o treinamento de modelos, visto que os algoritmos têm menor quantidade de colunas para considerar\n",
    "- Fornecer dados sem colinearidade\n",
    "- Visualização de dados e análise exploratória de dados\n",
    "- Eliminar ruído de medição"
   ]
  },
  {
   "attachments": {},
   "cell_type": "markdown",
   "metadata": {},
   "source": [
    "1.1. Interpretação das Componentes Principais**\n",
    "\n",
    "Conforme dito, cada componente principal é uma **combinação linear dos atributos originais**. Assim sendo, o PCA pode ser interpretado como um **método que constrói um novo espaço de atributos** ou seja, um *feature map*. Isso é bem semelhante ao que é feito para os algoritmos de *Kernel SVM*. No entanto, no caso do SVM, os novos espaços criados pela aplicação da *kernel function* eram sempre de dimensão superior ao dataset original. Em contrapartida, a PCA sempre produzirá um espaço com dimensão igual ou menor ao dataset original.\n",
    "\n",
    "<img src=https://miro.medium.com/max/1200/1*V3JWBvxB92Uo116Bpxa3Tw.png width=700>\n",
    "\n",
    "Sabendo que os novos atributos são ortogonais entre sim, elas maximizam a variância dos dados em cada sub-espaço de projeção.\n",
    "\n",
    "Na prática, seja um espaço de input $\\mathcal{X}$ de $n$ dimensões, tal que cada vetor de features $\\vec{x} \\in \\mathcal{X}$ é dado por:\n",
    "\n",
    "$ \\vec{x} = \\left ( x_1, x_2, x_3, \\cdots , x_n \\right) $\n",
    "\n",
    "Após a aplicação do PCA, estaremos no espaço de componentes principais, tal que um vetor de features neste espaço, $\\vec{x}_{PC}$, será dado por:\n",
    "\n",
    "$ \\vec{x}_{PC} = \\left ( PC_1, PC_2, PC_3, \\cdots , PC_n \\right) $\n",
    "\n",
    "Onde cada componente principal é uma combinação linear das features originais, isto é, \n",
    "\n",
    "$ PC_i = \\sum_{k=1}^n \\alpha_{i, k} x_k = \\alpha_{i, 1} x_1 +  \\alpha_{i, 2} x_2 + \\cdots +  \\alpha_{i, n} x_n$\n",
    "\n",
    "Note que cada componente principal $i$ tem $n$ coeficientes diferentes $\\alpha_{i, k}$, que acompanham cada uma das features $k$ do espaço original. Esse coeficientes $\\alpha_{i,k}$ podem ser utilizados como forma de geradores de *insights* a respeito da estrutura dos dados, sendo comumente chamados de *efeitos* ou *pesos*."
   ]
  },
  {
   "cell_type": "code",
   "execution_count": 24,
   "metadata": {},
   "outputs": [],
   "source": [
    "import pandas as pd\n",
    "import numpy as np\n",
    "import matplotlib.pyplot as plt\n",
    "import seaborn as sns\n",
    "from sklearn.decomposition import PCA, KernelPCA\n",
    "from sklearn.pipeline import Pipeline\n",
    "from sklearn.preprocessing import StandardScaler\n",
    "from sklearn.compose import ColumnTransformer\n",
    "from sklearn.impute import SimpleImputer\n",
    "from sklearn.metrics import make_scorer, classification_report\n",
    "from sklearn.model_selection import train_test_split, RandomizedSearchCV, StratifiedKFold, KFold\n",
    "from sklearn.linear_model import LogisticRegression\n",
    "from sklearn.datasets import load_iris"
   ]
  },
  {
   "cell_type": "code",
   "execution_count": 2,
   "metadata": {},
   "outputs": [],
   "source": [
    "# carregar os dados\n",
    "iris = load_iris(as_frame=True)\n",
    "x = iris.data\n",
    "y = pd.DataFrame(iris.target.values, columns=['species'])\n",
    "\n",
    "# separando entre treino e teste\n",
    "x_train, x_test, y_train, y_test = train_test_split(\n",
    "    x, y, test_size=0.2,\n",
    "    random_state=42, stratify=y\n",
    ")"
   ]
  },
  {
   "cell_type": "markdown",
   "metadata": {},
   "source": [
    "No caso do dataset iris, temos 4 features, de modo que o espaço original tem 4 dimensões, e um vetor de features é:\n",
    "\n",
    "$ \\vec{x} = (x_1, x_2, x_3, x_4)$.\n",
    "\n",
    "Sendo que:\n",
    "\n",
    "- $x_1$ : 'sepal_length', \n",
    "- $x_2$ : 'sepal_width', \n",
    "- $x_3$ : 'petal_length', \n",
    "- $x_4$ : 'petal_width'.\n",
    "\n",
    "Assim, esperamos que após o PCA, o espaço de componentes principais também tenha 4 dimensões, isto é, \n",
    "\n",
    "$ \\vec{x}_{PC} = \\left ( PC_1, PC_2, PC_3, PC_4 \\right) $\n",
    "\n",
    "E as componentes principais serão: \n",
    "\n",
    "$ PC_1 = \\alpha_{1, 1} x_1 + \\alpha_{1, 2} x_2 + \\alpha_{1, 3} x_3 + \\alpha_{1, 4} x_4$\n",
    "\n",
    "$ PC_2 = \\alpha_{2, 1} x_1 + \\alpha_{2, 2} x_2 + \\alpha_{2, 3} x_3 + \\alpha_{2, 4} x_4$\n",
    "\n",
    "$ PC_3 = \\alpha_{3, 1} x_1 + \\alpha_{3, 2} x_2 + \\alpha_{3, 3} x_3 + \\alpha_{3, 4} x_4$\n",
    "\n",
    "$ PC_4 = \\alpha_{4, 1} x_1 + \\alpha_{4, 2} x_2 + \\alpha_{4, 3} x_3 + \\alpha_{4, 4} x_4$\n",
    "\n",
    "O algoritmo de PCA é bem sensível à ordem de grandeza dos atributos, visto que ele depende do cálculo das variâncias e covariâncias, como veremos posteriormente. \n",
    "\n",
    "Além disso, uma das hipóteses que ele faz a respeito dos dados é que eles estejam **centrados em relação à média**. \n",
    "\n",
    "Portanto, a padronização é a transformação indicada para a utilização do PCA."
   ]
  },
  {
   "cell_type": "code",
   "execution_count": 3,
   "metadata": {},
   "outputs": [],
   "source": [
    "# aplicação do padronizador\n",
    "scaler = StandardScaler().fit(x_train)\n",
    "\n",
    "x_train_s = pd.DataFrame(scaler.transform(x_train), columns=x_train.columns,\n",
    "                         index=x_train.index)\n",
    "x_test_s = pd.DataFrame(scaler.transform(x_test), columns=x_train.columns,\n",
    "                        index=x_test.index)"
   ]
  },
  {
   "cell_type": "code",
   "execution_count": 4,
   "metadata": {},
   "outputs": [],
   "source": [
    "# aplicação do objeto da PCA\n",
    "pca = PCA(random_state=42).fit(x_train_s)"
   ]
  },
  {
   "cell_type": "markdown",
   "metadata": {},
   "source": [
    "O atributo `components_` nos apresenta os coeficientes das combinações lineares $\\alpha_{i,k}$ \n",
    "\n",
    "de cada componente principal e podem ser utilizados como uma forma de análise exploratória dos dados."
   ]
  },
  {
   "cell_type": "code",
   "execution_count": 23,
   "metadata": {},
   "outputs": [
    {
     "data": {
      "text/plain": [
       "range"
      ]
     },
     "execution_count": 23,
     "metadata": {},
     "output_type": "execute_result"
    }
   ],
   "source": [
    "# coeficientes das combinações lineares - efeitos ou pesos\n",
    "pca.components_"
   ]
  },
  {
   "cell_type": "code",
   "execution_count": 20,
   "metadata": {},
   "outputs": [
    {
     "name": "stdout",
     "output_type": "stream",
     "text": [
      "PC_1 = (0.527)*x_1 + (-0.253)*x_2 + (0.582)*x_3 + (0.566)*x_4\n",
      "\n",
      "PC_2 = (0.348)*x_1 + (0.935)*x_2 + (0.027)*x_3 + (0.066)*x_4\n",
      "\n",
      "PC_3 = (-0.727)*x_1 + (0.222)*x_2 + (0.139)*x_3 + (0.634)*x_4\n",
      "\n",
      "PC_4 = (0.269)*x_1 + (-0.114)*x_2 + (-0.801)*x_3 + (0.523)*x_4\n",
      "\n"
     ]
    }
   ],
   "source": [
    "for j in range(pca.n_components_):\n",
    "    \n",
    "    string = (f\"PC_{j+1} = \" \n",
    "              + \n",
    "              \" + \".join([f\"({alpha:.3f})*x_{i+1}\" for i, alpha in enumerate(pca.components_[j])])\n",
    "              +\n",
    "              \"\\n\")\n",
    "    \n",
    "    print(string)"
   ]
  },
  {
   "cell_type": "markdown",
   "metadata": {},
   "source": [
    "Construindo-se um gráfico de combinações em pares de componentes principais, podemos usar os coeficientes para determinar pontos parecidos e, assim, inferir a respeito da estrutura dos dados. Por exemplo, espécies com maiores 'sepal_lenght' tendem a serem agrupadas com valores maiores de $PC_1$, visto que o coeficiente associado é positivo. No entanto, maiores $PC_1$ tendem a possuir exemplares com menores 'sepal_width', visto que o coeficiente associado é negativo."
   ]
  },
  {
   "cell_type": "code",
   "execution_count": 7,
   "metadata": {},
   "outputs": [
    {
     "data": {
      "image/png": "[encoded data removed]",
      "text/plain": [
       "<Figure size 576x576 with 1 Axes>"
      ]
     },
     "metadata": {
      "needs_background": "light"
     },
     "output_type": "display_data"
    }
   ],
   "source": [
    "# criando uma lista de labels\n",
    "colors = ['red', 'green', 'blue', 'gray']\n",
    "labels = [f'PC_{i+1}' for i in range(pca.n_components_)]\n",
    "# construindo um gráfico de variância explicada\n",
    "plt.figure(figsize=(8, 8))\n",
    "plt.bar(labels, pca.explained_variance_ratio_*100, color = colors)\n",
    "plt.ylabel('Fração da Variância Explicada', size=14)\n",
    "plt.show()"
   ]
  },
  {
   "cell_type": "code",
   "execution_count": 8,
   "metadata": {},
   "outputs": [
    {
     "data": {
      "image/png": "[encoded data removed]",
      "text/plain": [
       "<Figure size 576x576 with 1 Axes>"
      ]
     },
     "metadata": {
      "needs_background": "light"
     },
     "output_type": "display_data"
    }
   ],
   "source": [
    "# construindo um gráfico de variância explicada acumulada\n",
    "plt.figure(figsize=(8, 8))\n",
    "plt.bar(labels, pca.explained_variance_ratio_.cumsum()*100, color = colors)\n",
    "plt.ylabel('Fração da Variância Explicada Acumulada', size=14)\n",
    "plt.show()"
   ]
  },
  {
   "cell_type": "code",
   "execution_count": 9,
   "metadata": {},
   "outputs": [
    {
     "data": {
      "text/plain": [
       "array([ 72.67723405,  95.74390107,  99.52580251, 100.        ])"
      ]
     },
     "execution_count": 9,
     "metadata": {},
     "output_type": "execute_result"
    }
   ],
   "source": [
    "pca.explained_variance_ratio_.cumsum()*100"
   ]
  },
  {
   "cell_type": "markdown",
   "metadata": {},
   "source": [
    "Os gráficos mostram que, selecionando apenas as duas primeiras componentes principais, extraímos cerca de 95 % da informação original, porém reduzido a dimensionalidade original pela metade.\n",
    "\n",
    "Esse tipo de análise é interessante para determinar o quanto de informação estaria sendo levada para uma possível modelagem futura. Nesse caso, estamos garantindo que modelando com 2 componentes principais, estamos retendo praticamente toda a informação inicial.\n",
    "\n",
    "> Veja que a escolha de $L < n$ componentes principais pode ser vista como um procedimento de **feature selection**, mas feito **no espaço de componentes principais!**\n",
    "> Como não são as features originais que são selecionadas, é comum nos referirmos a este procedimento como **redução de dimensionalidade** (e a dimensionalidade que é reduzida é do espaço de componentes principais)\n",
    "\n",
    "De fato, note que **todas as 4 features originais** estão presentes em cada uma das PCs, como termos da combinação linear que define cada PC. E, naturalmente, todas as 4 estão presentes nas $L$ primeiras."
   ]
  },
  {
   "cell_type": "code",
   "execution_count": 10,
   "metadata": {},
   "outputs": [
    {
     "name": "stderr",
     "output_type": "stream",
     "text": [
      "c:\\Users\\vitor\\anaconda3\\lib\\site-packages\\seaborn\\_decorators.py:36: FutureWarning: Pass the following variables as keyword args: x, y. From version 0.12, the only valid positional argument will be `data`, and passing other arguments without an explicit keyword will result in an error or misinterpretation.\n",
      "  warnings.warn(\n"
     ]
    },
    {
     "data": {
      "text/plain": [
       "<Figure size 576x576 with 0 Axes>"
      ]
     },
     "metadata": {},
     "output_type": "display_data"
    },
    {
     "data": {
      "image/png": "[encoded data removed]",
      "text/plain": [
       "<Figure size 432x432 with 3 Axes>"
      ]
     },
     "metadata": {
      "needs_background": "light"
     },
     "output_type": "display_data"
    }
   ],
   "source": [
    "# transformando os dados de treino e plotando as duas primeiras componentes\n",
    "x_train_pca = pd.DataFrame(pca.transform(x_train_s), columns=labels,\n",
    "                           index=x_train_s.index)\n",
    "\n",
    "# obtendo os valores das espécies\n",
    "data_train_pca = pd.concat([x_train_pca, y_train], axis=1)\n",
    "\n",
    "plt.figure(figsize=(8, 8))\n",
    "g = sns.jointplot(data_train_pca['PC_1'], data_train_pca['PC_2'],\n",
    "         hue=data_train_pca['species'], palette='tab10')\n",
    "g.fig.suptitle('Projeção dos dados nas 2 primeiras componentes principais',\n",
    "               y=1.05)\n",
    "plt.show()"
   ]
  },
  {
   "cell_type": "markdown",
   "metadata": {},
   "source": [
    "Nota-se, neste exemplo, que a espécie 0 ('setosa') é linearmente separável das outras, possuindo baixos valores de $PC_1$. Pela análise anterior dos pesos da primeira componente, isso nos leva à conclusão de que essa espécie comumente possuem os menores valores de 'sepal_lenght', porém os maiores valores de 'sepal_width', em relação às outras espécies."
   ]
  },
  {
   "cell_type": "markdown",
   "metadata": {},
   "source": [
    "<hr>\n",
    "\n",
    "**Exercício 1** Utilizando a base de dados `heart.csv`, vamos tentar desenvolver um diagnosticador simples a respeito do risco de um ataque cardíaco. Para isso, aplique o algoritmo de PCA de forma exploratória, nos seguintes passos:\n",
    "\n",
    "- cheque a presença de valores ausentes\n",
    "- selecione somente atributos numéricos\n",
    "- realize o escalonamento com `StandardScaler`\n",
    "- por meio de gráficos bidimensionais, dê uma sugestão do que pode ser usado para diagnosticar um alto risco de ataque cardíaco.\n",
    "\n",
    "Segue o dicionário de dados, retirado da origem dos dados ([esse link](https://www.kaggle.com/datasets/rashikrahmanpritom/heart-attack-analysis-prediction-dataset?resource=download&select=heart.csv)):\n",
    "\n",
    "- `age`: idade da pessoa\n",
    "- `sex`: gênero\n",
    "- `cp`: tipo de dor no peito (1 - angina típica, 2 - angina atípica, 3 - dor não angínica, 4 - sem dor)\n",
    "- `exang` - se houve angina induzida por exercício (1 - sim, 0 - não)\n",
    "- `trtbps` - batimentos por segundo em estado de repouso\n",
    "- `chol` - concentração de colesterol\n",
    "- `fbs` - concentração de açúcar no sangue > 120 mg/dl (1 - sim, 0 - não)\n",
    "- `restecg` - resultados do eletrocardiograma em estado de repouso (0 - normal, 1 - anormalidades de onda do sinal; 2 - provável ou definitiva hipertrofia do ventrículo esquerdo)\n",
    "- `thalachh` - máxima taxa de batimentos cardíacos alcançados\n",
    "- `target` - 0 - menor chance de ataque cardíaco, 1 - maior chance\n",
    "\n",
    "<hr>"
   ]
  },
  {
   "cell_type": "code",
   "execution_count": 11,
   "metadata": {},
   "outputs": [],
   "source": [
    "data_heart = pd.read_csv('..\\datasets\\heart.csv')"
   ]
  },
  {
   "cell_type": "code",
   "execution_count": 12,
   "metadata": {},
   "outputs": [
    {
     "data": {
      "text/html": [
       "<div>\n",
       "<style scoped>\n",
       "    .dataframe tbody tr th:only-of-type {\n",
       "        vertical-align: middle;\n",
       "    }\n",
       "\n",
       "    .dataframe tbody tr th {\n",
       "        vertical-align: top;\n",
       "    }\n",
       "\n",
       "    .dataframe thead th {\n",
       "        text-align: right;\n",
       "    }\n",
       "</style>\n",
       "<table border=\"1\" class=\"dataframe\">\n",
       "  <thead>\n",
       "    <tr style=\"text-align: right;\">\n",
       "      <th></th>\n",
       "      <th>Age</th>\n",
       "      <th>Sex</th>\n",
       "      <th>ChestPainType</th>\n",
       "      <th>RestingBP</th>\n",
       "      <th>Cholesterol</th>\n",
       "      <th>FastingBS</th>\n",
       "      <th>RestingECG</th>\n",
       "      <th>MaxHR</th>\n",
       "      <th>ExerciseAngina</th>\n",
       "      <th>Oldpeak</th>\n",
       "      <th>ST_Slope</th>\n",
       "      <th>HeartDisease</th>\n",
       "    </tr>\n",
       "  </thead>\n",
       "  <tbody>\n",
       "    <tr>\n",
       "      <th>0</th>\n",
       "      <td>40</td>\n",
       "      <td>M</td>\n",
       "      <td>ATA</td>\n",
       "      <td>140</td>\n",
       "      <td>289</td>\n",
       "      <td>0</td>\n",
       "      <td>Normal</td>\n",
       "      <td>172</td>\n",
       "      <td>N</td>\n",
       "      <td>0.0</td>\n",
       "      <td>Up</td>\n",
       "      <td>0</td>\n",
       "    </tr>\n",
       "    <tr>\n",
       "      <th>1</th>\n",
       "      <td>49</td>\n",
       "      <td>F</td>\n",
       "      <td>NAP</td>\n",
       "      <td>160</td>\n",
       "      <td>180</td>\n",
       "      <td>0</td>\n",
       "      <td>Normal</td>\n",
       "      <td>156</td>\n",
       "      <td>N</td>\n",
       "      <td>1.0</td>\n",
       "      <td>Flat</td>\n",
       "      <td>1</td>\n",
       "    </tr>\n",
       "    <tr>\n",
       "      <th>2</th>\n",
       "      <td>37</td>\n",
       "      <td>M</td>\n",
       "      <td>ATA</td>\n",
       "      <td>130</td>\n",
       "      <td>283</td>\n",
       "      <td>0</td>\n",
       "      <td>ST</td>\n",
       "      <td>98</td>\n",
       "      <td>N</td>\n",
       "      <td>0.0</td>\n",
       "      <td>Up</td>\n",
       "      <td>0</td>\n",
       "    </tr>\n",
       "    <tr>\n",
       "      <th>3</th>\n",
       "      <td>48</td>\n",
       "      <td>F</td>\n",
       "      <td>ASY</td>\n",
       "      <td>138</td>\n",
       "      <td>214</td>\n",
       "      <td>0</td>\n",
       "      <td>Normal</td>\n",
       "      <td>108</td>\n",
       "      <td>Y</td>\n",
       "      <td>1.5</td>\n",
       "      <td>Flat</td>\n",
       "      <td>1</td>\n",
       "    </tr>\n",
       "    <tr>\n",
       "      <th>4</th>\n",
       "      <td>54</td>\n",
       "      <td>M</td>\n",
       "      <td>NAP</td>\n",
       "      <td>150</td>\n",
       "      <td>195</td>\n",
       "      <td>0</td>\n",
       "      <td>Normal</td>\n",
       "      <td>122</td>\n",
       "      <td>N</td>\n",
       "      <td>0.0</td>\n",
       "      <td>Up</td>\n",
       "      <td>0</td>\n",
       "    </tr>\n",
       "    <tr>\n",
       "      <th>...</th>\n",
       "      <td>...</td>\n",
       "      <td>...</td>\n",
       "      <td>...</td>\n",
       "      <td>...</td>\n",
       "      <td>...</td>\n",
       "      <td>...</td>\n",
       "      <td>...</td>\n",
       "      <td>...</td>\n",
       "      <td>...</td>\n",
       "      <td>...</td>\n",
       "      <td>...</td>\n",
       "      <td>...</td>\n",
       "    </tr>\n",
       "    <tr>\n",
       "      <th>913</th>\n",
       "      <td>45</td>\n",
       "      <td>M</td>\n",
       "      <td>TA</td>\n",
       "      <td>110</td>\n",
       "      <td>264</td>\n",
       "      <td>0</td>\n",
       "      <td>Normal</td>\n",
       "      <td>132</td>\n",
       "      <td>N</td>\n",
       "      <td>1.2</td>\n",
       "      <td>Flat</td>\n",
       "      <td>1</td>\n",
       "    </tr>\n",
       "    <tr>\n",
       "      <th>914</th>\n",
       "      <td>68</td>\n",
       "      <td>M</td>\n",
       "      <td>ASY</td>\n",
       "      <td>144</td>\n",
       "      <td>193</td>\n",
       "      <td>1</td>\n",
       "      <td>Normal</td>\n",
       "      <td>141</td>\n",
       "      <td>N</td>\n",
       "      <td>3.4</td>\n",
       "      <td>Flat</td>\n",
       "      <td>1</td>\n",
       "    </tr>\n",
       "    <tr>\n",
       "      <th>915</th>\n",
       "      <td>57</td>\n",
       "      <td>M</td>\n",
       "      <td>ASY</td>\n",
       "      <td>130</td>\n",
       "      <td>131</td>\n",
       "      <td>0</td>\n",
       "      <td>Normal</td>\n",
       "      <td>115</td>\n",
       "      <td>Y</td>\n",
       "      <td>1.2</td>\n",
       "      <td>Flat</td>\n",
       "      <td>1</td>\n",
       "    </tr>\n",
       "    <tr>\n",
       "      <th>916</th>\n",
       "      <td>57</td>\n",
       "      <td>F</td>\n",
       "      <td>ATA</td>\n",
       "      <td>130</td>\n",
       "      <td>236</td>\n",
       "      <td>0</td>\n",
       "      <td>LVH</td>\n",
       "      <td>174</td>\n",
       "      <td>N</td>\n",
       "      <td>0.0</td>\n",
       "      <td>Flat</td>\n",
       "      <td>1</td>\n",
       "    </tr>\n",
       "    <tr>\n",
       "      <th>917</th>\n",
       "      <td>38</td>\n",
       "      <td>M</td>\n",
       "      <td>NAP</td>\n",
       "      <td>138</td>\n",
       "      <td>175</td>\n",
       "      <td>0</td>\n",
       "      <td>Normal</td>\n",
       "      <td>173</td>\n",
       "      <td>N</td>\n",
       "      <td>0.0</td>\n",
       "      <td>Up</td>\n",
       "      <td>0</td>\n",
       "    </tr>\n",
       "  </tbody>\n",
       "</table>\n",
       "<p>918 rows × 12 columns</p>\n",
       "</div>"
      ],
      "text/plain": [
       "     Age Sex ChestPainType  RestingBP  Cholesterol  FastingBS RestingECG  \\\n",
       "0     40   M           ATA        140          289          0     Normal   \n",
       "1     49   F           NAP        160          180          0     Normal   \n",
       "2     37   M           ATA        130          283          0         ST   \n",
       "3     48   F           ASY        138          214          0     Normal   \n",
       "4     54   M           NAP        150          195          0     Normal   \n",
       "..   ...  ..           ...        ...          ...        ...        ...   \n",
       "913   45   M            TA        110          264          0     Normal   \n",
       "914   68   M           ASY        144          193          1     Normal   \n",
       "915   57   M           ASY        130          131          0     Normal   \n",
       "916   57   F           ATA        130          236          0        LVH   \n",
       "917   38   M           NAP        138          175          0     Normal   \n",
       "\n",
       "     MaxHR ExerciseAngina  Oldpeak ST_Slope  HeartDisease  \n",
       "0      172              N      0.0       Up             0  \n",
       "1      156              N      1.0     Flat             1  \n",
       "2       98              N      0.0       Up             0  \n",
       "3      108              Y      1.5     Flat             1  \n",
       "4      122              N      0.0       Up             0  \n",
       "..     ...            ...      ...      ...           ...  \n",
       "913    132              N      1.2     Flat             1  \n",
       "914    141              N      3.4     Flat             1  \n",
       "915    115              Y      1.2     Flat             1  \n",
       "916    174              N      0.0     Flat             1  \n",
       "917    173              N      0.0       Up             0  \n",
       "\n",
       "[918 rows x 12 columns]"
      ]
     },
     "execution_count": 12,
     "metadata": {},
     "output_type": "execute_result"
    }
   ],
   "source": [
    "data_heart"
   ]
  },
  {
   "cell_type": "code",
   "execution_count": 13,
   "metadata": {},
   "outputs": [
    {
     "ename": "KeyError",
     "evalue": "\"['oldpeak'] not found in axis\"",
     "output_type": "error",
     "traceback": [
      "\u001b[1;31m---------------------------------------------------------------------------\u001b[0m",
      "\u001b[1;31mKeyError\u001b[0m                                  Traceback (most recent call last)",
      "\u001b[1;32m~\\AppData\\Local\\Temp/ipykernel_8248/2966004824.py\u001b[0m in \u001b[0;36m<module>\u001b[1;34m\u001b[0m\n\u001b[1;32m----> 1\u001b[1;33m \u001b[0mdata_filter\u001b[0m \u001b[1;33m=\u001b[0m \u001b[0mdata_heart\u001b[0m\u001b[1;33m.\u001b[0m\u001b[0mdrop\u001b[0m\u001b[1;33m(\u001b[0m\u001b[0mcolumns\u001b[0m\u001b[1;33m=\u001b[0m\u001b[1;34m'oldpeak'\u001b[0m\u001b[1;33m)\u001b[0m\u001b[1;33m\u001b[0m\u001b[1;33m\u001b[0m\u001b[0m\n\u001b[0m",
      "\u001b[1;32mc:\\Users\\vitor\\anaconda3\\lib\\site-packages\\pandas\\util\\_decorators.py\u001b[0m in \u001b[0;36mwrapper\u001b[1;34m(*args, **kwargs)\u001b[0m\n\u001b[0;32m    309\u001b[0m                     \u001b[0mstacklevel\u001b[0m\u001b[1;33m=\u001b[0m\u001b[0mstacklevel\u001b[0m\u001b[1;33m,\u001b[0m\u001b[1;33m\u001b[0m\u001b[1;33m\u001b[0m\u001b[0m\n\u001b[0;32m    310\u001b[0m                 )\n\u001b[1;32m--> 311\u001b[1;33m             \u001b[1;32mreturn\u001b[0m \u001b[0mfunc\u001b[0m\u001b[1;33m(\u001b[0m\u001b[1;33m*\u001b[0m\u001b[0margs\u001b[0m\u001b[1;33m,\u001b[0m \u001b[1;33m**\u001b[0m\u001b[0mkwargs\u001b[0m\u001b[1;33m)\u001b[0m\u001b[1;33m\u001b[0m\u001b[1;33m\u001b[0m\u001b[0m\n\u001b[0m\u001b[0;32m    312\u001b[0m \u001b[1;33m\u001b[0m\u001b[0m\n\u001b[0;32m    313\u001b[0m         \u001b[1;32mreturn\u001b[0m \u001b[0mwrapper\u001b[0m\u001b[1;33m\u001b[0m\u001b[1;33m\u001b[0m\u001b[0m\n",
      "\u001b[1;32mc:\\Users\\vitor\\anaconda3\\lib\\site-packages\\pandas\\core\\frame.py\u001b[0m in \u001b[0;36mdrop\u001b[1;34m(self, labels, axis, index, columns, level, inplace, errors)\u001b[0m\n\u001b[0;32m   4904\u001b[0m                 \u001b[0mweight\u001b[0m  \u001b[1;36m1.0\u001b[0m     \u001b[1;36m0.8\u001b[0m\u001b[1;33m\u001b[0m\u001b[1;33m\u001b[0m\u001b[0m\n\u001b[0;32m   4905\u001b[0m         \"\"\"\n\u001b[1;32m-> 4906\u001b[1;33m         return super().drop(\n\u001b[0m\u001b[0;32m   4907\u001b[0m             \u001b[0mlabels\u001b[0m\u001b[1;33m=\u001b[0m\u001b[0mlabels\u001b[0m\u001b[1;33m,\u001b[0m\u001b[1;33m\u001b[0m\u001b[1;33m\u001b[0m\u001b[0m\n\u001b[0;32m   4908\u001b[0m             \u001b[0maxis\u001b[0m\u001b[1;33m=\u001b[0m\u001b[0maxis\u001b[0m\u001b[1;33m,\u001b[0m\u001b[1;33m\u001b[0m\u001b[1;33m\u001b[0m\u001b[0m\n",
      "\u001b[1;32mc:\\Users\\vitor\\anaconda3\\lib\\site-packages\\pandas\\core\\generic.py\u001b[0m in \u001b[0;36mdrop\u001b[1;34m(self, labels, axis, index, columns, level, inplace, errors)\u001b[0m\n\u001b[0;32m   4148\u001b[0m         \u001b[1;32mfor\u001b[0m \u001b[0maxis\u001b[0m\u001b[1;33m,\u001b[0m \u001b[0mlabels\u001b[0m \u001b[1;32min\u001b[0m \u001b[0maxes\u001b[0m\u001b[1;33m.\u001b[0m\u001b[0mitems\u001b[0m\u001b[1;33m(\u001b[0m\u001b[1;33m)\u001b[0m\u001b[1;33m:\u001b[0m\u001b[1;33m\u001b[0m\u001b[1;33m\u001b[0m\u001b[0m\n\u001b[0;32m   4149\u001b[0m             \u001b[1;32mif\u001b[0m \u001b[0mlabels\u001b[0m \u001b[1;32mis\u001b[0m \u001b[1;32mnot\u001b[0m \u001b[1;32mNone\u001b[0m\u001b[1;33m:\u001b[0m\u001b[1;33m\u001b[0m\u001b[1;33m\u001b[0m\u001b[0m\n\u001b[1;32m-> 4150\u001b[1;33m                 \u001b[0mobj\u001b[0m \u001b[1;33m=\u001b[0m \u001b[0mobj\u001b[0m\u001b[1;33m.\u001b[0m\u001b[0m_drop_axis\u001b[0m\u001b[1;33m(\u001b[0m\u001b[0mlabels\u001b[0m\u001b[1;33m,\u001b[0m \u001b[0maxis\u001b[0m\u001b[1;33m,\u001b[0m \u001b[0mlevel\u001b[0m\u001b[1;33m=\u001b[0m\u001b[0mlevel\u001b[0m\u001b[1;33m,\u001b[0m \u001b[0merrors\u001b[0m\u001b[1;33m=\u001b[0m\u001b[0merrors\u001b[0m\u001b[1;33m)\u001b[0m\u001b[1;33m\u001b[0m\u001b[1;33m\u001b[0m\u001b[0m\n\u001b[0m\u001b[0;32m   4151\u001b[0m \u001b[1;33m\u001b[0m\u001b[0m\n\u001b[0;32m   4152\u001b[0m         \u001b[1;32mif\u001b[0m \u001b[0minplace\u001b[0m\u001b[1;33m:\u001b[0m\u001b[1;33m\u001b[0m\u001b[1;33m\u001b[0m\u001b[0m\n",
      "\u001b[1;32mc:\\Users\\vitor\\anaconda3\\lib\\site-packages\\pandas\\core\\generic.py\u001b[0m in \u001b[0;36m_drop_axis\u001b[1;34m(self, labels, axis, level, errors)\u001b[0m\n\u001b[0;32m   4183\u001b[0m                 \u001b[0mnew_axis\u001b[0m \u001b[1;33m=\u001b[0m \u001b[0maxis\u001b[0m\u001b[1;33m.\u001b[0m\u001b[0mdrop\u001b[0m\u001b[1;33m(\u001b[0m\u001b[0mlabels\u001b[0m\u001b[1;33m,\u001b[0m \u001b[0mlevel\u001b[0m\u001b[1;33m=\u001b[0m\u001b[0mlevel\u001b[0m\u001b[1;33m,\u001b[0m \u001b[0merrors\u001b[0m\u001b[1;33m=\u001b[0m\u001b[0merrors\u001b[0m\u001b[1;33m)\u001b[0m\u001b[1;33m\u001b[0m\u001b[1;33m\u001b[0m\u001b[0m\n\u001b[0;32m   4184\u001b[0m             \u001b[1;32melse\u001b[0m\u001b[1;33m:\u001b[0m\u001b[1;33m\u001b[0m\u001b[1;33m\u001b[0m\u001b[0m\n\u001b[1;32m-> 4185\u001b[1;33m                 \u001b[0mnew_axis\u001b[0m \u001b[1;33m=\u001b[0m \u001b[0maxis\u001b[0m\u001b[1;33m.\u001b[0m\u001b[0mdrop\u001b[0m\u001b[1;33m(\u001b[0m\u001b[0mlabels\u001b[0m\u001b[1;33m,\u001b[0m \u001b[0merrors\u001b[0m\u001b[1;33m=\u001b[0m\u001b[0merrors\u001b[0m\u001b[1;33m)\u001b[0m\u001b[1;33m\u001b[0m\u001b[1;33m\u001b[0m\u001b[0m\n\u001b[0m\u001b[0;32m   4186\u001b[0m             \u001b[0mresult\u001b[0m \u001b[1;33m=\u001b[0m \u001b[0mself\u001b[0m\u001b[1;33m.\u001b[0m\u001b[0mreindex\u001b[0m\u001b[1;33m(\u001b[0m\u001b[1;33m**\u001b[0m\u001b[1;33m{\u001b[0m\u001b[0maxis_name\u001b[0m\u001b[1;33m:\u001b[0m \u001b[0mnew_axis\u001b[0m\u001b[1;33m}\u001b[0m\u001b[1;33m)\u001b[0m\u001b[1;33m\u001b[0m\u001b[1;33m\u001b[0m\u001b[0m\n\u001b[0;32m   4187\u001b[0m \u001b[1;33m\u001b[0m\u001b[0m\n",
      "\u001b[1;32mc:\\Users\\vitor\\anaconda3\\lib\\site-packages\\pandas\\core\\indexes\\base.py\u001b[0m in \u001b[0;36mdrop\u001b[1;34m(self, labels, errors)\u001b[0m\n\u001b[0;32m   6015\u001b[0m         \u001b[1;32mif\u001b[0m \u001b[0mmask\u001b[0m\u001b[1;33m.\u001b[0m\u001b[0many\u001b[0m\u001b[1;33m(\u001b[0m\u001b[1;33m)\u001b[0m\u001b[1;33m:\u001b[0m\u001b[1;33m\u001b[0m\u001b[1;33m\u001b[0m\u001b[0m\n\u001b[0;32m   6016\u001b[0m             \u001b[1;32mif\u001b[0m \u001b[0merrors\u001b[0m \u001b[1;33m!=\u001b[0m \u001b[1;34m\"ignore\"\u001b[0m\u001b[1;33m:\u001b[0m\u001b[1;33m\u001b[0m\u001b[1;33m\u001b[0m\u001b[0m\n\u001b[1;32m-> 6017\u001b[1;33m                 \u001b[1;32mraise\u001b[0m \u001b[0mKeyError\u001b[0m\u001b[1;33m(\u001b[0m\u001b[1;34mf\"{labels[mask]} not found in axis\"\u001b[0m\u001b[1;33m)\u001b[0m\u001b[1;33m\u001b[0m\u001b[1;33m\u001b[0m\u001b[0m\n\u001b[0m\u001b[0;32m   6018\u001b[0m             \u001b[0mindexer\u001b[0m \u001b[1;33m=\u001b[0m \u001b[0mindexer\u001b[0m\u001b[1;33m[\u001b[0m\u001b[1;33m~\u001b[0m\u001b[0mmask\u001b[0m\u001b[1;33m]\u001b[0m\u001b[1;33m\u001b[0m\u001b[1;33m\u001b[0m\u001b[0m\n\u001b[0;32m   6019\u001b[0m         \u001b[1;32mreturn\u001b[0m \u001b[0mself\u001b[0m\u001b[1;33m.\u001b[0m\u001b[0mdelete\u001b[0m\u001b[1;33m(\u001b[0m\u001b[0mindexer\u001b[0m\u001b[1;33m)\u001b[0m\u001b[1;33m\u001b[0m\u001b[1;33m\u001b[0m\u001b[0m\n",
      "\u001b[1;31mKeyError\u001b[0m: \"['oldpeak'] not found in axis\""
     ]
    }
   ],
   "source": [
    "data_filter = data_heart.drop(columns='oldpeak')"
   ]
  },
  {
   "cell_type": "code",
   "execution_count": null,
   "metadata": {},
   "outputs": [
    {
     "data": {
      "text/plain": [
       "age         0\n",
       "sex         0\n",
       "cp          0\n",
       "trtbps      0\n",
       "chol        0\n",
       "fbs         0\n",
       "restecg     0\n",
       "thalachh    0\n",
       "exng        0\n",
       "slp         0\n",
       "caa         0\n",
       "thall       0\n",
       "output      0\n",
       "dtype: int64"
      ]
     },
     "execution_count": 124,
     "metadata": {},
     "output_type": "execute_result"
    }
   ],
   "source": [
    "data_filter.isna().sum()"
   ]
  },
  {
   "cell_type": "code",
   "execution_count": null,
   "metadata": {},
   "outputs": [],
   "source": [
    "x = data_filter.drop(columns='output')\n",
    "y = data_filter['output']\n",
    "x_train, x_test, y_train, y_test = train_test_split(x, y , test_size=0.3, shuffle=True, stratify=y)"
   ]
  },
  {
   "cell_type": "code",
   "execution_count": null,
   "metadata": {},
   "outputs": [],
   "source": [
    "scaler = StandardScaler().fit(x_train)\n",
    "\n",
    "x_train_s = pd.DataFrame(scaler.transform(x_train), columns=x_train.columns,\n",
    "                         index=x_train.index)\n",
    "x_test_s = pd.DataFrame(scaler.transform(x_test), columns=x_train.columns,\n",
    "                        index=x_test.index)\n",
    "\n",
    "pca_heart = PCA(random_state=42).fit(x_train_s)"
   ]
  },
  {
   "cell_type": "code",
   "execution_count": null,
   "metadata": {},
   "outputs": [
    {
     "name": "stdout",
     "output_type": "stream",
     "text": [
      "PC_1 =(0.394) x_1 + (0.079) x_2 + (-0.306) x_3 + (0.125) x_4 + (0.135) x_5 + (0.076) x_6 + (-0.161) x_7 + (-0.466) x_8 + (0.403) x_9 + (-0.301) x_10 + (0.400) x_11 + (0.223) x_12\n",
      "\n",
      "PC_2 =(0.381) x_1 + (-0.304) x_2 + (0.328) x_3 + (0.494) x_4 + (0.330) x_5 + (0.340) x_6 + (-0.242) x_7 + (0.114) x_8 + (-0.248) x_9 + (0.096) x_10 + (0.071) x_11 + (-0.196) x_12\n",
      "\n",
      "PC_3 =(-0.118) x_1 + (0.638) x_2 + (0.316) x_3 + (0.128) x_4 + (-0.250) x_5 + (0.414) x_6 + (-0.230) x_7 + (0.191) x_8 + (-0.039) x_9 + (-0.135) x_10 + (0.079) x_11 + (0.336) x_12\n",
      "\n",
      "PC_4 =(0.088) x_1 + (-0.120) x_2 + (0.208) x_3 + (-0.008) x_4 + (-0.516) x_5 + (0.260) x_6 + (0.179) x_7 + (-0.349) x_8 + (0.000) x_9 + (-0.450) x_10 + (-0.198) x_11 + (-0.453) x_12\n",
      "\n",
      "PC_5 =(0.065) x_1 + (-0.151) x_2 + (-0.041) x_3 + (0.046) x_4 + (-0.079) x_5 + (0.364) x_6 + (0.779) x_7 + (0.072) x_8 + (-0.090) x_9 + (0.153) x_10 + (0.320) x_11 + (0.292) x_12\n",
      "\n",
      "PC_6 =(-0.077) x_1 + (-0.099) x_2 + (0.285) x_3 + (0.240) x_4 + (0.334) x_5 + (-0.228) x_6 + (0.260) x_7 + (0.012) x_8 + (0.102) x_9 + (-0.507) x_10 + (-0.424) x_11 + (0.409) x_12\n",
      "\n",
      "PC_7 =(-0.272) x_1 + (-0.081) x_2 + (-0.390) x_3 + (0.474) x_4 + (-0.100) x_5 + (0.309) x_6 + (-0.015) x_7 + (0.123) x_8 + (0.497) x_9 + (0.200) x_10 + (-0.362) x_11 + (-0.068) x_12\n",
      "\n",
      "PC_8 =(-0.324) x_1 + (-0.176) x_2 + (0.050) x_3 + (-0.505) x_4 + (0.441) x_5 + (0.485) x_6 + (-0.083) x_7 + (0.146) x_8 + (0.225) x_9 + (-0.255) x_10 + (0.107) x_11 + (-0.146) x_12\n",
      "\n",
      "PC_9 =(-0.307) x_1 + (-0.245) x_2 + (-0.448) x_3 + (0.222) x_4 + (-0.153) x_5 + (-0.027) x_6 + (-0.174) x_7 + (0.207) x_8 + (-0.467) x_9 + (-0.462) x_10 + (0.245) x_11 + (0.078) x_12\n",
      "\n",
      "PC_10 =(-0.105) x_1 + (0.550) x_2 + (-0.123) x_3 + (0.258) x_4 + (0.366) x_5 + (-0.120) x_6 + (0.340) x_7 + (0.042) x_8 + (-0.063) x_9 + (-0.145) x_10 + (0.158) x_11 + (-0.537) x_12\n",
      "\n",
      "PC_11 =(0.086) x_1 + (0.193) x_2 + (-0.353) x_3 + (-0.147) x_4 + (0.241) x_5 + (0.330) x_6 + (-0.004) x_7 + (-0.396) x_8 + (-0.481) x_9 + (0.093) x_10 + (-0.475) x_11 + (0.139) x_12\n",
      "\n",
      "PC_12 =(0.613) x_1 + (0.097) x_2 + (-0.279) x_3 + (-0.217) x_4 + (-0.076) x_5 + (0.028) x_6 + (0.056) x_7 + (0.607) x_8 + (0.072) x_9 + (-0.224) x_10 + (-0.232) x_11 + (-0.051) x_12\n",
      "\n"
     ]
    }
   ],
   "source": [
    "for i in range(pca_heart.n_components_):\n",
    "    string = (f'PC_{i+1} ='\n",
    "              +\n",
    "              \" + \".join([f'({alpha:.3f}) x_{j+1}' for j, alpha in enumerate(pca_heart.components_[i])])\n",
    "              +\n",
    "              \"\\n\")\n",
    "    print(string)\n"
   ]
  },
  {
   "cell_type": "code",
   "execution_count": null,
   "metadata": {},
   "outputs": [
    {
     "data": {
      "image/png": "[encoded data removed]",
      "text/plain": [
       "<Figure size 576x576 with 1 Axes>"
      ]
     },
     "metadata": {
      "needs_background": "light"
     },
     "output_type": "display_data"
    }
   ],
   "source": [
    "labels = [f'PC_{i+1}' for i in range(pca_heart.n_components_)]\n",
    "# construindo um gráfico de variância explicada\n",
    "plt.figure(figsize=(8, 8))\n",
    "plt.bar(labels, pca_heart.explained_variance_ratio_*100)\n",
    "plt.ylabel('Fração da Variância Explicada', size=14)\n",
    "plt.show()"
   ]
  },
  {
   "cell_type": "code",
   "execution_count": null,
   "metadata": {},
   "outputs": [
    {
     "data": {
      "image/png": "[encoded data removed]",
      "text/plain": [
       "<Figure size 576x576 with 1 Axes>"
      ]
     },
     "metadata": {
      "needs_background": "light"
     },
     "output_type": "display_data"
    }
   ],
   "source": [
    "labels = [f'PC_{i+1}' for i in range(pca_heart.n_components_)]\n",
    "# construindo um gráfico de variância explicada\n",
    "plt.figure(figsize=(8, 8))\n",
    "plt.bar(labels, pca_heart.explained_variance_ratio_.cumsum()*100)\n",
    "plt.ylabel('Fração da Variância Explicada', size=14)\n",
    "plt.show()"
   ]
  },
  {
   "cell_type": "code",
   "execution_count": null,
   "metadata": {},
   "outputs": [
    {
     "data": {
      "text/html": [
       "<div>\n",
       "<style scoped>\n",
       "    .dataframe tbody tr th:only-of-type {\n",
       "        vertical-align: middle;\n",
       "    }\n",
       "\n",
       "    .dataframe tbody tr th {\n",
       "        vertical-align: top;\n",
       "    }\n",
       "\n",
       "    .dataframe thead th {\n",
       "        text-align: right;\n",
       "    }\n",
       "</style>\n",
       "<table border=\"1\" class=\"dataframe\">\n",
       "  <thead>\n",
       "    <tr style=\"text-align: right;\">\n",
       "      <th></th>\n",
       "      <th>PC_1</th>\n",
       "      <th>PC_2</th>\n",
       "      <th>PC_3</th>\n",
       "      <th>PC_4</th>\n",
       "      <th>PC_5</th>\n",
       "      <th>PC_6</th>\n",
       "      <th>PC_7</th>\n",
       "      <th>PC_8</th>\n",
       "      <th>PC_9</th>\n",
       "      <th>PC_10</th>\n",
       "      <th>PC_11</th>\n",
       "      <th>PC_12</th>\n",
       "      <th>output</th>\n",
       "    </tr>\n",
       "  </thead>\n",
       "  <tbody>\n",
       "    <tr>\n",
       "      <th>0</th>\n",
       "      <td>4.106288</td>\n",
       "      <td>190.486462</td>\n",
       "      <td>-16.092737</td>\n",
       "      <td>-168.032739</td>\n",
       "      <td>3.607988</td>\n",
       "      <td>110.566287</td>\n",
       "      <td>45.611392</td>\n",
       "      <td>31.393084</td>\n",
       "      <td>6.759559</td>\n",
       "      <td>122.030826</td>\n",
       "      <td>-19.595230</td>\n",
       "      <td>79.837555</td>\n",
       "      <td>1</td>\n",
       "    </tr>\n",
       "    <tr>\n",
       "      <th>1</th>\n",
       "      <td>-22.651467</td>\n",
       "      <td>181.890989</td>\n",
       "      <td>-12.750453</td>\n",
       "      <td>-192.624034</td>\n",
       "      <td>3.319438</td>\n",
       "      <td>115.707383</td>\n",
       "      <td>48.420893</td>\n",
       "      <td>59.525831</td>\n",
       "      <td>16.867977</td>\n",
       "      <td>128.724806</td>\n",
       "      <td>-30.007364</td>\n",
       "      <td>88.554027</td>\n",
       "      <td>1</td>\n",
       "    </tr>\n",
       "    <tr>\n",
       "      <th>2</th>\n",
       "      <td>-20.528163</td>\n",
       "      <td>166.936910</td>\n",
       "      <td>-5.578864</td>\n",
       "      <td>-164.462969</td>\n",
       "      <td>5.840274</td>\n",
       "      <td>98.376864</td>\n",
       "      <td>50.990234</td>\n",
       "      <td>35.450507</td>\n",
       "      <td>19.515630</td>\n",
       "      <td>109.761948</td>\n",
       "      <td>-34.450408</td>\n",
       "      <td>85.071949</td>\n",
       "      <td>1</td>\n",
       "    </tr>\n",
       "    <tr>\n",
       "      <th>3</th>\n",
       "      <td>-14.420414</td>\n",
       "      <td>178.411724</td>\n",
       "      <td>-15.071653</td>\n",
       "      <td>-181.616954</td>\n",
       "      <td>4.885955</td>\n",
       "      <td>105.763173</td>\n",
       "      <td>39.602604</td>\n",
       "      <td>50.377103</td>\n",
       "      <td>8.602398</td>\n",
       "      <td>118.471313</td>\n",
       "      <td>-26.169640</td>\n",
       "      <td>97.806914</td>\n",
       "      <td>1</td>\n",
       "    </tr>\n",
       "    <tr>\n",
       "      <th>4</th>\n",
       "      <td>9.557277</td>\n",
       "      <td>215.741976</td>\n",
       "      <td>-48.570981</td>\n",
       "      <td>-237.270212</td>\n",
       "      <td>-5.341011</td>\n",
       "      <td>144.884217</td>\n",
       "      <td>26.606779</td>\n",
       "      <td>100.244995</td>\n",
       "      <td>-12.668660</td>\n",
       "      <td>160.472180</td>\n",
       "      <td>7.925753</td>\n",
       "      <td>80.623752</td>\n",
       "      <td>1</td>\n",
       "    </tr>\n",
       "  </tbody>\n",
       "</table>\n",
       "</div>"
      ],
      "text/plain": [
       "        PC_1        PC_2       PC_3        PC_4      PC_5        PC_6  \\\n",
       "0   4.106288  190.486462 -16.092737 -168.032739  3.607988  110.566287   \n",
       "1 -22.651467  181.890989 -12.750453 -192.624034  3.319438  115.707383   \n",
       "2 -20.528163  166.936910  -5.578864 -164.462969  5.840274   98.376864   \n",
       "3 -14.420414  178.411724 -15.071653 -181.616954  4.885955  105.763173   \n",
       "4   9.557277  215.741976 -48.570981 -237.270212 -5.341011  144.884217   \n",
       "\n",
       "        PC_7        PC_8       PC_9       PC_10      PC_11      PC_12  output  \n",
       "0  45.611392   31.393084   6.759559  122.030826 -19.595230  79.837555       1  \n",
       "1  48.420893   59.525831  16.867977  128.724806 -30.007364  88.554027       1  \n",
       "2  50.990234   35.450507  19.515630  109.761948 -34.450408  85.071949       1  \n",
       "3  39.602604   50.377103   8.602398  118.471313 -26.169640  97.806914       1  \n",
       "4  26.606779  100.244995 -12.668660  160.472180   7.925753  80.623752       1  "
      ]
     },
     "execution_count": 130,
     "metadata": {},
     "output_type": "execute_result"
    }
   ],
   "source": [
    "data_heart_pca = pd.DataFrame(pca_heart.transform(x),\n",
    "                              columns=labels,\n",
    "                              index=x.index)\n",
    "data_heart_pca['output'] = data_heart['output']\n",
    "data_heart_pca.head()"
   ]
  },
  {
   "cell_type": "code",
   "execution_count": null,
   "metadata": {},
   "outputs": [
    {
     "name": "stderr",
     "output_type": "stream",
     "text": [
      "c:\\Users\\vitor\\anaconda3\\lib\\site-packages\\seaborn\\_decorators.py:36: FutureWarning: Pass the following variables as keyword args: x, y. From version 0.12, the only valid positional argument will be `data`, and passing other arguments without an explicit keyword will result in an error or misinterpretation.\n",
      "  warnings.warn(\n"
     ]
    },
    {
     "data": {
      "text/plain": [
       "<Figure size 576x576 with 0 Axes>"
      ]
     },
     "metadata": {},
     "output_type": "display_data"
    },
    {
     "data": {
      "image/png": "[encoded data removed]",
      "text/plain": [
       "<Figure size 432x432 with 3 Axes>"
      ]
     },
     "metadata": {
      "needs_background": "light"
     },
     "output_type": "display_data"
    }
   ],
   "source": [
    "plt.figure(figsize=(8, 8))\n",
    "graph = sns.jointplot(data_heart_pca['PC_1'], data_heart_pca['PC_2'],\n",
    "         hue=data_heart_pca['output'], palette='tab10')\n",
    "graph.fig.suptitle('Projeção dos dados nas 2 primeiras componentes principais',\n",
    "               y=1.05)\n",
    "plt.show()"
   ]
  },
  {
   "cell_type": "markdown",
   "metadata": {},
   "source": [
    "Analisando-se o efeito da idade, verifica-se que o coeficiente é positivo para a PC1 e positivo para a PC2. Isso significa que aumentar a idade (pessoas mais velhas) têm maior valor de PC1 e PC2. Pelo gráfico bidimensional, não fica claro se isso implica numa maior chance de ataque cardíaco - há muita mistura de pontos. No entanto, outro fator interessante é que a variável restecg (resultados do eletrocardiogram no estado de repouso) têm fator negativo na PC1, de forma que maiores valores apontam para menores PC1s. De fato, o gráfico mostra ligeiramente maior concentração de pontos laranja (pessoas com ataque cardíaco) em menores valores de PC1."
   ]
  },
  {
   "cell_type": "markdown",
   "metadata": {},
   "source": [
    "## **4. Selecionando o Número de Componentes**\n",
    "\n",
    "Existem alguns métodos listados em literatura que podem ajudar na seleção do número de componentes principais a serem retidas. Vejamos os mais conhecidos:\n",
    "\n",
    "- Seleção manual - absoluta ou por variância relativa\n",
    "- Validação cruzada\n",
    "- Método do cotovelo\n",
    "- Método da análise paralela"
   ]
  },
  {
   "cell_type": "markdown",
   "metadata": {},
   "source": [
    "### **4.1. Seleção Manual**\n",
    "\n",
    "A seleção manual é o que já temos feito até o momento. Se for absoluta, especifica-se quantas componentes são desejadas. Se for por variância relativa, especifica-se qual a fração mínima de variância original a ser retida."
   ]
  },
  {
   "cell_type": "code",
   "execution_count": null,
   "metadata": {},
   "outputs": [
    {
     "name": "stdout",
     "output_type": "stream",
     "text": [
      "Foram retidas 8 componentes\n",
      "[0.19482092 0.13085483 0.10598973 0.09541652 0.08029718 0.07624169\n",
      " 0.07235516 0.06813311]\n"
     ]
    }
   ],
   "source": [
    "# especificando-se uma retenção mínima de variância de 80 % da original\n",
    "pca_var = PCA(n_components=0.80).fit(x_train_s)\n",
    "\n",
    "print(f'Foram retidas {len(pca_var.components_)} componentes')\n",
    "print(pca_var.explained_variance_ratio_)"
   ]
  },
  {
   "cell_type": "markdown",
   "metadata": {},
   "source": [
    "### **4.2. Método do Cotovelo**\n",
    "\n",
    "Bem semelhante ao realizado para os métodos de vizinhos mais próximos (kNN e KMeans), o método do cotovelo analisa quando a variância retida já não aumenta significativamente a variaância acumulada. Isso é matematicamente conhecido como *ponto de inflexão*."
   ]
  },
  {
   "cell_type": "code",
   "execution_count": null,
   "metadata": {},
   "outputs": [
    {
     "data": {
      "image/png": "[encoded data removed]",
      "text/plain": [
       "<Figure size 576x576 with 1 Axes>"
      ]
     },
     "metadata": {
      "needs_background": "light"
     },
     "output_type": "display_data"
    }
   ],
   "source": [
    "# reconstruindo o gráfico de variâncias acumuladas\n",
    "plt.figure(figsize=(8, 8))\n",
    "plt.plot(range(4), pca.explained_variance_ratio_.cumsum(), 'bo-')\n",
    "plt.ylabel('Variância Acumulada', size=14)\n",
    "plt.show()"
   ]
  },
  {
   "cell_type": "markdown",
   "metadata": {},
   "source": [
    "### **4.3. Validação Cruzada**\n",
    "\n",
    "Se o propósito for utilizar a PCA em modelagem, podemos tentar selecionar o número de componentes por meio de um algoritmo de busca com validação cruzada. Neste caso, não estamos muito interessados na interpretabilidade do modelo, mas sim em desempenho. O número de componentes é visto como um *hiperparâmetro* adicional a ser buscado."
   ]
  },
  {
   "cell_type": "code",
   "execution_count": null,
   "metadata": {},
   "outputs": [
    {
     "data": {
      "text/plain": [
       "RandomizedSearchCV(cv=StratifiedKFold(n_splits=10, random_state=42, shuffle=True),\n",
       "                   estimator=Pipeline(steps=[('scaler', StandardScaler()),\n",
       "                                             ('pca', PCA(random_state=42)),\n",
       "                                             ('model',\n",
       "                                              LogisticRegression(solver='saga'))]),\n",
       "                   n_iter=100, n_jobs=-1,\n",
       "                   param_distributions={'model__C': array([3.86007511, 5.0970276 , 1.45904465, 8.82825267, 1.74973341,\n",
       "       7.89434007, 9.87525898, 0.415...\n",
       "       0.99587648, 7.82686287, 6.92960001, 1.00089238, 0.30649979,\n",
       "       0.29489888, 0.15142668, 1.04648849, 2.28386312, 8.43116324,\n",
       "       7.03182152, 1.30503369, 6.43248263, 6.59935044, 5.55073788,\n",
       "       8.49948325, 5.57102218, 6.71423831, 5.8186154 , 8.70383968,\n",
       "       1.83051064, 2.59359672, 6.39986489, 5.78930137, 8.98843233]),\n",
       "                                        'model__penalty': ['l1', 'l2'],\n",
       "                                        'pca__n_components': [1, 2, 3, 4]},\n",
       "                   scoring='accuracy')"
      ]
     },
     "execution_count": 135,
     "metadata": {},
     "output_type": "execute_result"
    }
   ],
   "source": [
    "# criando objeto amostrador\n",
    "cvs = StratifiedKFold(n_splits=10, shuffle=True, random_state=42)\n",
    "\n",
    "# criando o pipeline de modelagem\n",
    "pipe_pca = Pipeline([\n",
    "    ('scaler', StandardScaler()),\n",
    "    ('pca', PCA(random_state=42)),\n",
    "    ('model', LogisticRegression(solver='saga'))\n",
    "])\n",
    "\n",
    "# criando o dicionário de parâmetros\n",
    "params = {\n",
    "    'pca__n_components': [1, 2, 3, 4],\n",
    "    'model__C': np.random.uniform(0.01, 10, 1000),\n",
    "    'model__penalty': ['l1', 'l2']\n",
    "}\n",
    "\n",
    "# criando o selecionador de modelos\n",
    "model_selector = RandomizedSearchCV(\n",
    "    estimator=pipe_pca,\n",
    "    param_distributions=params,\n",
    "    n_iter=100,\n",
    "    scoring='accuracy',\n",
    "    n_jobs=-1,\n",
    "    refit=True,\n",
    "    cv=cvs\n",
    ")\n",
    "\n",
    "# ajustando o selecionador de modelos\n",
    "model_selector.fit(x_train, y_train.values.ravel())"
   ]
  },
  {
   "cell_type": "code",
   "execution_count": null,
   "metadata": {},
   "outputs": [
    {
     "name": "stdout",
     "output_type": "stream",
     "text": [
      "best params = {'pca__n_components': 3, 'model__penalty': 'l1', 'model__C': 8.995696949014066}\n",
      "best score = 0.8116883116883116\n"
     ]
    }
   ],
   "source": [
    "# analisando os melhores hiperparâmetros\n",
    "print(f'best params = {model_selector.best_params_}')\n",
    "# analisando o desempenho do melhor estimador\n",
    "print(f'best score = {model_selector.best_score_}')"
   ]
  },
  {
   "cell_type": "code",
   "execution_count": null,
   "metadata": {},
   "outputs": [
    {
     "name": "stdout",
     "output_type": "stream",
     "text": [
      "              precision    recall  f1-score   support\n",
      "\n",
      "           0       0.89      0.80      0.85        41\n",
      "           1       0.85      0.92      0.88        50\n",
      "\n",
      "    accuracy                           0.87        91\n",
      "   macro avg       0.87      0.86      0.87        91\n",
      "weighted avg       0.87      0.87      0.87        91\n",
      "\n"
     ]
    }
   ],
   "source": [
    "# desempenho na base de teste\n",
    "yhat = model_selector.best_estimator_.predict(x_test)\n",
    "\n",
    "print(classification_report(y_test, yhat))"
   ]
  },
  {
   "cell_type": "code",
   "execution_count": null,
   "metadata": {},
   "outputs": [],
   "source": []
  }
 ],
 "metadata": {
  "kernelspec": {
   "display_name": "base",
   "language": "python",
   "name": "python3"
  },
  "language_info": {
   "codemirror_mode": {
    "name": "ipython",
    "version": 3
   },
   "file_extension": ".py",
   "mimetype": "text/x-python",
   "name": "python",
   "nbconvert_exporter": "python",
   "pygments_lexer": "ipython3",
   "version": "3.9.7"
  },
  "orig_nbformat": 4
 },
 "nbformat": 4,
 "nbformat_minor": 2
}
